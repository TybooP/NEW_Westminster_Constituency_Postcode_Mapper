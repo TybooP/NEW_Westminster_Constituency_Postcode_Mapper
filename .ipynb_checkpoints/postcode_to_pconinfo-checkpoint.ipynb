{
 "cells": [
  {
   "cell_type": "code",
   "execution_count": 18,
   "id": "16c363e8",
   "metadata": {},
   "outputs": [],
   "source": [
    "import pandas as pd\n",
    "\n",
    "\n",
    "## DONT CHANGE\n",
    "# Read in the dataset containing postcode mapping information (csv in the zip file)\n",
    "postcode_mapping_df = pd.read_csv(\"OUTPUT_new_pconnm_pconcd.csv\")\n",
    "\n",
    "\n",
    "## CHANGE \n",
    "# Read in the dataset containing postcodes of members/list\n",
    "postcodes_df = pd.read_csv(\"PATH TO FILE THAT HAS THE POSTCODES THAT YOU WANT TO MATCH\")\n"
   ]
  },
  {
   "cell_type": "code",
   "execution_count": 19,
   "id": "4a0b162d",
   "metadata": {},
   "outputs": [],
   "source": [
    "## ONLY NEED TO CHANGE THE \"zip_code\" TO MATCH YOUR VARIABLE NAME THAT HAS THE POSTCODES\n",
    "## \"zip_code\" is the Action Network name of the postcodes\n",
    "# Convert 'Postcode' and 'pcd' columns to lowercase, remove spaces, and remove additional characters\n",
    "postcodes_df['zip_code'] = postcodes_df['zip_code'].str.lower().str.replace(' ', '').str.replace('.', '').str.replace('-', '').str.replace(\"'\", '')\n",
    "postcode_mapping_df['pcd'] = postcode_mapping_df['pcd'].str.lower().str.replace(' ', '').str.replace('.', '').str.replace('-', '').str.replace(\"'\", '')\n",
    "\n",
    "# Merge the dataframes based on postcode\n",
    "merged_df = pd.merge(postcodes_df, postcode_mapping_df, left_on='zip_code', right_on='pcd', how='left')\n",
    "\n",
    "# Drop the redundant 'pcd' column after the merge\n",
    "merged_df.drop('pcd', axis=1, inplace=True)\n",
    "\n",
    "# Export the result to a CSV file\n",
    "merged_df.to_csv(\"FINAL_postcodes_with_new_pcon_info.csv\", index=False)"
   ]
  },
  {
   "cell_type": "code",
   "execution_count": null,
   "id": "98f0f7ca",
   "metadata": {},
   "outputs": [],
   "source": []
  },
  {
   "cell_type": "code",
   "execution_count": null,
   "id": "3504c39f",
   "metadata": {},
   "outputs": [],
   "source": []
  },
  {
   "cell_type": "code",
   "execution_count": null,
   "id": "f742033e",
   "metadata": {},
   "outputs": [],
   "source": []
  },
  {
   "cell_type": "code",
   "execution_count": null,
   "id": "af83f1cf",
   "metadata": {},
   "outputs": [],
   "source": []
  },
  {
   "cell_type": "code",
   "execution_count": null,
   "id": "52323517",
   "metadata": {},
   "outputs": [],
   "source": []
  },
  {
   "cell_type": "code",
   "execution_count": null,
   "id": "80ede416",
   "metadata": {},
   "outputs": [],
   "source": []
  },
  {
   "cell_type": "code",
   "execution_count": null,
   "id": "e2b5fda3",
   "metadata": {},
   "outputs": [],
   "source": []
  },
  {
   "cell_type": "code",
   "execution_count": null,
   "id": "4d7bd9f5",
   "metadata": {},
   "outputs": [],
   "source": []
  }
 ],
 "metadata": {
  "kernelspec": {
   "display_name": "Python 3 (ipykernel)",
   "language": "python",
   "name": "python3"
  },
  "language_info": {
   "codemirror_mode": {
    "name": "ipython",
    "version": 3
   },
   "file_extension": ".py",
   "mimetype": "text/x-python",
   "name": "python",
   "nbconvert_exporter": "python",
   "pygments_lexer": "ipython3",
   "version": "3.9.12"
  }
 },
 "nbformat": 4,
 "nbformat_minor": 5
}
