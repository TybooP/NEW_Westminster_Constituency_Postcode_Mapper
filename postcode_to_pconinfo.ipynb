{
 "cells": [
  {
   "cell_type": "code",
   "execution_count": 14,
   "id": "16c363e8",
   "metadata": {},
   "outputs": [],
   "source": [
    "import pandas as pd\n",
    "\n",
    "# Read in the dataset containing postcodes of members\n",
    "postcodes_df = pd.read_csv(\"/Downloads/list_postcodes.csv\")  # Adjust the file name as needed\n",
    "\n",
    "# Read in the dataset containing postcode mapping information\n",
    "postcode_mapping_df = pd.read_csv(\"OUTPUT_new_pconnm_pconcd.csv\")  # Adjust the file name as needed\n"
   ]
  },
  {
   "cell_type": "code",
   "execution_count": 18,
   "id": "4a0b162d",
   "metadata": {},
   "outputs": [
    {
     "name": "stdout",
     "output_type": "stream",
     "text": [
      "Postcodes with no match:\n",
      "ss08d\n",
      "ct10\n",
      "st5\n",
      "fyi6nj\n",
      "tr97tr\n",
      "pe11\n",
      "gu149g\n",
      "da1\n",
      "sn4\n",
      "cm12oqa\n",
      "y084ay\n",
      "cf42\n",
      "la295xy\n",
      "tq123etpl3\n",
      "ll67\n",
      "rm7\n",
      "21360\n",
      "ka22bj8\n",
      "nr2\n",
      "rh6\n",
      "wd100sb\n",
      "tn288x\n",
      "de66fb\n",
      "ls29pri\n",
      "wn7\n",
      "le4ofg\n",
      "l31\n",
      "hu68e\n",
      "cw7\n",
      "sy27fn\n",
      "dl10ha\n",
      "ta159qr\n",
      "b\n",
      "ct47tct47tp\n",
      "tf1\n",
      "kingslynn\n",
      "wlr144ps\n",
      "dt3\n",
      "ng31ped\n",
      "ne38ojr\n",
      "ub8\n",
      "m26\n",
      "se12\n",
      "Total number of unmatched postcodes: 43\n",
      "Total number of matched postcodes: 1818\n"
     ]
    }
   ],
   "source": [
    "# Convert 'Postcode' and 'pcd' columns to lowercase, remove spaces, and remove additional characters\n",
    "postcodes_df['Postcode'] = postcodes_df['Postcode'].str.lower().str.replace(' ', '').str.replace('.', '').str.replace('-', '').str.replace(\"'\", '')\n",
    "postcode_mapping_df['pcd'] = postcode_mapping_df['pcd'].str.lower().str.replace(' ', '').str.replace('.', '').str.replace('-', '').str.replace(\"'\", '')\n",
    "\n",
    "# Perform lookup for each postcode and append corresponding information\n",
    "postcodes_with_info = []\n",
    "unmatched_postcodes = []\n",
    "for index, row in postcodes_df.iterrows():\n",
    "    postcode = row['Postcode']  # Adjust the column name as needed\n",
    "    corresponding_info = postcode_mapping_df[postcode_mapping_df['pcd'] == postcode]\n",
    "    if not corresponding_info.empty:\n",
    "        postcodes_with_info.append(corresponding_info.iloc[0])  # Assuming you only want the first match\n",
    "    else:\n",
    "        unmatched_postcodes.append(postcode)\n",
    "\n",
    "# Print out the postcodes that had no match\n",
    "print(\"Postcodes with no match:\")\n",
    "for postcode in unmatched_postcodes:\n",
    "    print(postcode)\n",
    "\n",
    "# Print out the sum of unmatched postcodes\n",
    "print(\"Total number of unmatched postcodes:\", len(unmatched_postcodes))\n",
    "\n",
    "# Print out the sum of matched postcodes\n",
    "print(\"Total number of matched postcodes:\", len(postcodes_with_info))\n",
    "\n",
    "# Create a DataFrame from the list of postcodes with corresponding information\n",
    "postcodes_with_info_df = pd.DataFrame(postcodes_with_info)\n",
    "\n",
    "# Export the result to a CSV file\n",
    "postcodes_with_info_df.to_csv(\"postcodes_with_info.csv\", index=False)"
   ]
  },
  {
   "cell_type": "code",
   "execution_count": null,
   "id": "98f0f7ca",
   "metadata": {},
   "outputs": [],
   "source": []
  },
  {
   "cell_type": "code",
   "execution_count": null,
   "id": "3504c39f",
   "metadata": {},
   "outputs": [],
   "source": []
  },
  {
   "cell_type": "code",
   "execution_count": null,
   "id": "f742033e",
   "metadata": {},
   "outputs": [],
   "source": []
  },
  {
   "cell_type": "code",
   "execution_count": null,
   "id": "af83f1cf",
   "metadata": {},
   "outputs": [],
   "source": []
  },
  {
   "cell_type": "code",
   "execution_count": null,
   "id": "52323517",
   "metadata": {},
   "outputs": [],
   "source": []
  },
  {
   "cell_type": "code",
   "execution_count": null,
   "id": "80ede416",
   "metadata": {},
   "outputs": [],
   "source": []
  },
  {
   "cell_type": "code",
   "execution_count": null,
   "id": "e2b5fda3",
   "metadata": {},
   "outputs": [],
   "source": []
  },
  {
   "cell_type": "code",
   "execution_count": null,
   "id": "4d7bd9f5",
   "metadata": {},
   "outputs": [],
   "source": []
  }
 ],
 "metadata": {
  "kernelspec": {
   "display_name": "Python 3 (ipykernel)",
   "language": "python",
   "name": "python3"
  },
  "language_info": {
   "codemirror_mode": {
    "name": "ipython",
    "version": 3
   },
   "file_extension": ".py",
   "mimetype": "text/x-python",
   "name": "python",
   "nbconvert_exporter": "python",
   "pygments_lexer": "ipython3",
   "version": "3.9.12"
  }
 },
 "nbformat": 4,
 "nbformat_minor": 5
}
